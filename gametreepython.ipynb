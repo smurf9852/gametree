{
 "cells": [
  {
   "cell_type": "code",
   "execution_count": 56,
   "metadata": {},
   "outputs": [
    {
     "name": "stdout",
     "output_type": "stream",
     "text": [
      "                      4\n",
      "                   [[4, 4]]\n",
      "              [[4, 3], [4, 2, 4]]\n",
      "[[4, 1, 1, 3], [3, 3], [4, 3], [1, 2], [4, 4]]\n"
     ]
    }
   ],
   "source": [
    "import random\n",
    "import numpy as np\n",
    "\n",
    "desired_depth = 3\n",
    "b = 2\n",
    "\n",
    "def randomint():\n",
    "    return random.randint(1, 4)\n",
    "total_tree = [[]]\n",
    "\n",
    "def branching_factor(b):\n",
    "    #branching factor b+2 with 3% chance, b+1 with 6% chance, b with 80%\n",
    "    #chance, b-1 with 7% chance, b-2 with 4% chance. Naturally, if this results in a negative\n",
    "    #branching factor, it should be treated as zero.\n",
    "    random_0_100 = random.randint(1, 100)\n",
    "    if 1 <= random_0_100 <= 3:\n",
    "        b = b + 2\n",
    "    if 4 <= random_0_100 <= 9:\n",
    "        b = b + 1\n",
    "    if 10 <= random_0_100 <= 89:\n",
    "        b = b\n",
    "    if 90 <= random_0_100 <= 96:\n",
    "        b = b - 1\n",
    "    if 97 <= random_0_100 <= 100:\n",
    "        b = b - 2\n",
    "    if b < 0:\n",
    "        b = 0\n",
    "    return b\n",
    "    \n",
    "\n",
    "def tree(depth): #where depth is current depth (treeroot = 0)\n",
    "    if depth < desired_depth:\n",
    "        branch_list = [] #will contain values of branches of nodes\n",
    "        for i in range(branching_factor(b)): #if branching_factor = 0, not executed \n",
    "            if i == 0: #to store the complete tree at beginning\n",
    "                total_tree.append([]) \n",
    "            branch_list.append(tree(depth+1)) #recursive process, keeps going down tree until depth is reached \n",
    "        \n",
    "        #To store the branch values of the tree (d+1 because the nodes looks at the values below it)\n",
    "        \n",
    "        if branch_list != []: #if node has daughters:\n",
    "            total_tree[depth+1].append(branch_list)\n",
    "        if branch_list == []: #happens when node has no daughters given to it by braching factor\n",
    "            return randomint()\n",
    "        else:\n",
    "            return max(branch_list) #from branch values, get the node value (minmax arg must be implemented here)\n",
    "    else: #leaf node\n",
    "        return randomint()\n",
    "\n",
    "total_tree[0]=tree(0) #initiate sequence, depth = 0\n",
    "total_tree = [i for i in total_tree if i != []] #cleanse total_tree of empty lists\n",
    "\n",
    "def printing_tree(total_tree):\n",
    "    \n",
    "    empty=' '\n",
    "    length_last_string = len(str(total_tree[-1]))\n",
    "    half_length = length_last_string/2\n",
    "    \n",
    "    for i in range(len(total_tree)):\n",
    "        own_length = len(str(total_tree[i]))\n",
    "        N_empty = round(half_length-own_length/2)\n",
    "        if i == len(total_tree)-1:\n",
    "            N_empty = 0\n",
    "        print(N_empty*empty + str(total_tree[i]))\n",
    "\n",
    "printing_tree(total_tree)"
   ]
  },
  {
   "cell_type": "code",
   "execution_count": 36,
   "metadata": {},
   "outputs": [
    {
     "name": "stdout",
     "output_type": "stream",
     "text": [
      "0\n"
     ]
    }
   ],
   "source": [
    "for i in range(1):\n",
    "    print(i)"
   ]
  },
  {
   "cell_type": "code",
   "execution_count": 21,
   "metadata": {},
   "outputs": [
    {
     "ename": "ValueError",
     "evalue": "zero-size array to reduction operation maximum which has no identity",
     "output_type": "error",
     "traceback": [
      "\u001b[1;31m---------------------------------------------------------------------------\u001b[0m",
      "\u001b[1;31mValueError\u001b[0m                                Traceback (most recent call last)",
      "\u001b[1;32m<ipython-input-21-93f3814168a1>\u001b[0m in \u001b[0;36m<module>\u001b[1;34m()\u001b[0m\n\u001b[1;32m----> 1\u001b[1;33m \u001b[0mnp\u001b[0m\u001b[1;33m.\u001b[0m\u001b[0mmax\u001b[0m\u001b[1;33m(\u001b[0m\u001b[1;33m[\u001b[0m\u001b[1;33m]\u001b[0m\u001b[1;33m)\u001b[0m\u001b[1;33m\u001b[0m\u001b[0m\n\u001b[0m",
      "\u001b[1;32m~\\Anaconda3\\lib\\site-packages\\numpy\\core\\fromnumeric.py\u001b[0m in \u001b[0;36mamax\u001b[1;34m(a, axis, out, keepdims)\u001b[0m\n\u001b[0;32m   2318\u001b[0m \u001b[1;33m\u001b[0m\u001b[0m\n\u001b[0;32m   2319\u001b[0m     return _methods._amax(a, axis=axis,\n\u001b[1;32m-> 2320\u001b[1;33m                           out=out, **kwargs)\n\u001b[0m\u001b[0;32m   2321\u001b[0m \u001b[1;33m\u001b[0m\u001b[0m\n\u001b[0;32m   2322\u001b[0m \u001b[1;33m\u001b[0m\u001b[0m\n",
      "\u001b[1;32m~\\Anaconda3\\lib\\site-packages\\numpy\\core\\_methods.py\u001b[0m in \u001b[0;36m_amax\u001b[1;34m(a, axis, out, keepdims)\u001b[0m\n\u001b[0;32m     24\u001b[0m \u001b[1;31m# small reductions\u001b[0m\u001b[1;33m\u001b[0m\u001b[1;33m\u001b[0m\u001b[0m\n\u001b[0;32m     25\u001b[0m \u001b[1;32mdef\u001b[0m \u001b[0m_amax\u001b[0m\u001b[1;33m(\u001b[0m\u001b[0ma\u001b[0m\u001b[1;33m,\u001b[0m \u001b[0maxis\u001b[0m\u001b[1;33m=\u001b[0m\u001b[1;32mNone\u001b[0m\u001b[1;33m,\u001b[0m \u001b[0mout\u001b[0m\u001b[1;33m=\u001b[0m\u001b[1;32mNone\u001b[0m\u001b[1;33m,\u001b[0m \u001b[0mkeepdims\u001b[0m\u001b[1;33m=\u001b[0m\u001b[1;32mFalse\u001b[0m\u001b[1;33m)\u001b[0m\u001b[1;33m:\u001b[0m\u001b[1;33m\u001b[0m\u001b[0m\n\u001b[1;32m---> 26\u001b[1;33m     \u001b[1;32mreturn\u001b[0m \u001b[0mumr_maximum\u001b[0m\u001b[1;33m(\u001b[0m\u001b[0ma\u001b[0m\u001b[1;33m,\u001b[0m \u001b[0maxis\u001b[0m\u001b[1;33m,\u001b[0m \u001b[1;32mNone\u001b[0m\u001b[1;33m,\u001b[0m \u001b[0mout\u001b[0m\u001b[1;33m,\u001b[0m \u001b[0mkeepdims\u001b[0m\u001b[1;33m)\u001b[0m\u001b[1;33m\u001b[0m\u001b[0m\n\u001b[0m\u001b[0;32m     27\u001b[0m \u001b[1;33m\u001b[0m\u001b[0m\n\u001b[0;32m     28\u001b[0m \u001b[1;32mdef\u001b[0m \u001b[0m_amin\u001b[0m\u001b[1;33m(\u001b[0m\u001b[0ma\u001b[0m\u001b[1;33m,\u001b[0m \u001b[0maxis\u001b[0m\u001b[1;33m=\u001b[0m\u001b[1;32mNone\u001b[0m\u001b[1;33m,\u001b[0m \u001b[0mout\u001b[0m\u001b[1;33m=\u001b[0m\u001b[1;32mNone\u001b[0m\u001b[1;33m,\u001b[0m \u001b[0mkeepdims\u001b[0m\u001b[1;33m=\u001b[0m\u001b[1;32mFalse\u001b[0m\u001b[1;33m)\u001b[0m\u001b[1;33m:\u001b[0m\u001b[1;33m\u001b[0m\u001b[0m\n",
      "\u001b[1;31mValueError\u001b[0m: zero-size array to reduction operation maximum which has no identity"
     ]
    }
   ],
   "source": [
    "np.max([])"
   ]
  },
  {
   "cell_type": "code",
   "execution_count": null,
   "metadata": {},
   "outputs": [],
   "source": []
  }
 ],
 "metadata": {
  "kernelspec": {
   "display_name": "Python 3",
   "language": "python",
   "name": "python3"
  },
  "language_info": {
   "codemirror_mode": {
    "name": "ipython",
    "version": 3
   },
   "file_extension": ".py",
   "mimetype": "text/x-python",
   "name": "python",
   "nbconvert_exporter": "python",
   "pygments_lexer": "ipython3",
   "version": "3.6.4"
  }
 },
 "nbformat": 4,
 "nbformat_minor": 2
}
