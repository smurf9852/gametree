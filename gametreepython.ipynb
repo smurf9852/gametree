{
 "cells": [
  {
   "cell_type": "code",
   "execution_count": 16,
   "metadata": {},
   "outputs": [
    {
     "name": "stdout",
     "output_type": "stream",
     "text": [
      "                                                                4\n",
      "                                                            [[4, 4]]\n",
      "                                                        [[4, 4], [4, 4]]\n",
      "                                                [[3, 4], [4, 4], [4, 4], [2, 4]]\n",
      "                                [[2, 3], [2, 4], [4, 4], [2, 4], [2, 4], [3, 4], [2, 2], [4, 2]]\n",
      "[[2, 1], [3, 3], [1, 2], [4, 3], [3, 4], [4, 2], [2, 2], [4, 2], [2, 2], [2, 4], [3, 2], [1, 4], [2, 1], [1, 2], [4, 1], [2, 2]]\n"
     ]
    }
   ],
   "source": [
    "import random\n",
    "\n",
    "desired_depth = 5\n",
    "number_of_branches = 2\n",
    "\n",
    "def randomint():\n",
    "    return random.randint(1, 4)\n",
    "total_tree = [[]]\n",
    "\n",
    "\n",
    "\n",
    "def branching_factor(b):\n",
    "    #branching factor b+2 with 3% chance, b+1 with 6% chance, b with 80%\n",
    "    #chance, b-1 with 7% chance, b-2 with 4% chance. Naturally, if this results in a negative\n",
    "    #branching factor, it should be treated as zero.\n",
    "    random_0_100 = random.randint(1, 100)\n",
    "    if 1 <= random_0_100 <= 3:\n",
    "        b = b + 2\n",
    "    if 4 <= random_0_100 <= 9:\n",
    "        b = b + 1\n",
    "    if 10 <= random_0_100 <= 89:\n",
    "        b = b\n",
    "    if 90 <= random_0_100 <= 96:\n",
    "        b = b - 1\n",
    "    if 97 <= random_0_100 <= 100:\n",
    "        b = b - 2\n",
    "    if b < 0:\n",
    "        b = 0\n",
    "    return b\n",
    "    \n",
    "\n",
    "def tree(depth): #where depth is current depth (treeroot = 0)\n",
    "    if depth < desired_depth:\n",
    "        branch_list = [] #will contain values of branches of nodes\n",
    "        for i in range(2): #if branching_factor = 0, not executed \n",
    "            if i == 0: #to store the complete tree at beginning\n",
    "                total_tree.append([]) \n",
    "            branch_list.append(tree(depth+1)) #recursive process, keeps going down tree until depth is reached \n",
    "        \n",
    "        #To store the branch values of the tree (d+1 because the nodes looks at the values below it)\n",
    "        #print(branch_list,depth+1)\n",
    "        total_tree[depth+1].append(branch_list)\n",
    "        \n",
    "        return max(branch_list) #from branch values, get the node value (minmax arg must be implemented here)\n",
    "    else: #leaf node\n",
    "        return randomint()\n",
    "\n",
    "total_tree[0]=tree(0) #initiate sequence, depth = 0\n",
    "total_tree = [i for i in total_tree if i != []] #cleanse total_tree of empty lists\n",
    "\n",
    "def printing_tree(total_tree):\n",
    "    \n",
    "    empty=' '\n",
    "    length_last_string = len(str(total_tree[-1]))\n",
    "    half_length = length_last_string/2\n",
    "    \n",
    "    for i in range(len(total_tree)):\n",
    "        own_length = len(str(total_tree[i]))\n",
    "        N_empty = round(half_length-own_length/2)\n",
    "        if i == len(total_tree)-1:\n",
    "            N_empty = 0\n",
    "        print(N_empty*empty + str(total_tree[i]))\n",
    "\n",
    "printing_tree(total_tree)"
   ]
  },
  {
   "cell_type": "code",
   "execution_count": 13,
   "metadata": {},
   "outputs": [
    {
     "name": "stdout",
     "output_type": "stream",
     "text": [
      "0\n"
     ]
    }
   ],
   "source": [
    "for i in range(1):\n",
    "    print(i)"
   ]
  },
  {
   "cell_type": "code",
   "execution_count": null,
   "metadata": {},
   "outputs": [],
   "source": []
  }
 ],
 "metadata": {
  "kernelspec": {
   "display_name": "Python 3",
   "language": "python",
   "name": "python3"
  },
  "language_info": {
   "codemirror_mode": {
    "name": "ipython",
    "version": 3
   },
   "file_extension": ".py",
   "mimetype": "text/x-python",
   "name": "python",
   "nbconvert_exporter": "python",
   "pygments_lexer": "ipython3",
   "version": "3.6.4"
  }
 },
 "nbformat": 4,
 "nbformat_minor": 2
}
